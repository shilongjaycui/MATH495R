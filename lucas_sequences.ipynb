{
  "nbformat": 4,
  "nbformat_minor": 0,
  "metadata": {
    "colab": {
      "name": "lucas_sequences",
      "provenance": [],
      "collapsed_sections": [],
      "include_colab_link": true
    },
    "kernelspec": {
      "name": "python3",
      "display_name": "Python 3"
    }
  },
  "cells": [
    {
      "cell_type": "markdown",
      "metadata": {
        "id": "view-in-github",
        "colab_type": "text"
      },
      "source": [
        "<a href=\"https://colab.research.google.com/github/shilongjaycui/mathematical-programming/blob/main/lucas_sequences.ipynb\" target=\"_parent\"><img src=\"https://colab.research.google.com/assets/colab-badge.svg\" alt=\"Open In Colab\"/></a>"
      ]
    },
    {
      "cell_type": "markdown",
      "metadata": {
        "id": "YAag3H_hXxj4"
      },
      "source": [
        "Problem 1"
      ]
    },
    {
      "cell_type": "code",
      "metadata": {
        "id": "slKAOjLRXyTh",
        "colab": {
          "base_uri": "https://localhost:8080/",
          "height": 102
        },
        "outputId": "7fb379d0-ae6a-4c75-c9b8-0f4fe4198721"
      },
      "source": [
        "import sympy as sp\n",
        "\n",
        "def LucasU_pow(P,Q,n):\n",
        "  '''calculates the value Un(P,Q) using the matrix powers method'''\n",
        "  M = sp.Matrix([[P,-Q],[1,0]]) #We multiply a term in the sequence by this matrix to get the next term in the sequence\n",
        "  #N = M.copy()\n",
        "  vector = sp.Matrix([[1],[0]]) #These are the first two terms in the sequence\n",
        "  M = M**n #We multiply vector by M n times to get the n-th term in the sequence\n",
        "  #i = 1\n",
        "  #while i < n:\n",
        "  #  M = M*N\n",
        "  #  i += 1\n",
        "  return (M*vector)[1]\n",
        "\n",
        "print(LucasU_pow(1,-1,8))\n",
        "print(LucasU_pow(1,-1,167))\n",
        "print(LucasU_pow(3,4,8))\n",
        "print(LucasU_pow(2,-5,50))\n",
        "print(LucasU_pow(5,-15,0))"
      ],
      "execution_count": null,
      "outputs": [
        {
          "output_type": "stream",
          "text": [
            "21\n",
            "35600075545958458963222876581316753\n",
            "-93\n",
            "157629418574481317244196082\n",
            "0\n"
          ],
          "name": "stdout"
        }
      ]
    },
    {
      "cell_type": "markdown",
      "metadata": {
        "id": "Fx80Ov4kbrsa"
      },
      "source": [
        "Problem 2"
      ]
    },
    {
      "cell_type": "code",
      "metadata": {
        "id": "0K-by7sMbsxR",
        "colab": {
          "base_uri": "https://localhost:8080/",
          "height": 102
        },
        "outputId": "0eb7bad8-2867-488e-ffb5-85fa38e728e8"
      },
      "source": [
        "A = sp.Matrix([[1,1],[1,0]])\n",
        "print(A.eigenvects())\n",
        "'''\n",
        "eigenvects() returns a list where each entry is a tuple (λ, d, B)\n",
        "λ: eigenvalue\n",
        "d: dimension of the eigenspace\n",
        "B: basis for the eigenspace\n",
        "'''"
      ],
      "execution_count": null,
      "outputs": [
        {
          "output_type": "stream",
          "text": [
            "[(1/2 + sqrt(5)/2, 1, [Matrix([\n",
            "[-1/(-sqrt(5)/2 + 1/2)],\n",
            "[                    1]])]), (-sqrt(5)/2 + 1/2, 1, [Matrix([\n",
            "[-1/(1/2 + sqrt(5)/2)],\n",
            "[                   1]])])]\n"
          ],
          "name": "stdout"
        }
      ]
    },
    {
      "cell_type": "code",
      "metadata": {
        "id": "w8ALU8S6gPEu",
        "colab": {
          "base_uri": "https://localhost:8080/",
          "height": 85
        },
        "outputId": "afd9524b-4a56-48e0-d1ca-8c81952e24f9"
      },
      "source": [
        "\n",
        "def LucasU_eig(P,Q,n):\n",
        "  '''calculates the value Un(P,Q) using the eigenvalue method'''\n",
        "  M = sp.Matrix([[P,-Q],[1,0]])\n",
        "  es = M.eigenvects() #eigenspace\n",
        "  ev = [] #eigenvectors\n",
        "  for m in es:\n",
        "    ev.append(m[2][0]) #we collect the eigenvectors from the eigenspace\n",
        "  N = sp.Matrix([[ev[0][0,0],ev[1][0,0]],[ev[0][1,0],ev[1][1,0]]]) #we make the eigenvectors into a matrix\n",
        "  N = N.inv() #we take the inverse of the matrix\n",
        "  N = N*sp.Matrix([[1],[0]])\n",
        "  a = N[0,0]\n",
        "  b = N[1,0]\n",
        "  e_value1 = es[0][0] #1st eigenvalue\n",
        "  e_value2 = es[1][0] #2nd eigenvalue\n",
        "  e_vec1 = ev[0] #1st eigenvector\n",
        "  e_vec2 = ev[1] #2nd eigenvector\n",
        "  N = a*e_value1**n*e_vec1 + b*e_value2**n*e_vec2\n",
        "  return float(sp.re(N[1]))\n",
        "\n",
        "print(LucasU_eig(1,-1,8))\n",
        "print(LucasU_eig(1,-1,167))\n",
        "print(LucasU_eig(3,4,8))\n",
        "print(LucasU_eig(2,-5,50))"
      ],
      "execution_count": null,
      "outputs": [
        {
          "output_type": "stream",
          "text": [
            "21.0\n",
            "3.5600075545958458e+34\n",
            "-93.0\n",
            "1.5762941857448133e+26\n"
          ],
          "name": "stdout"
        }
      ]
    }
  ]
}