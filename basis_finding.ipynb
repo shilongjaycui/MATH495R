{
  "nbformat": 4,
  "nbformat_minor": 0,
  "metadata": {
    "colab": {
      "name": "basis_finding",
      "provenance": [],
      "collapsed_sections": [],
      "include_colab_link": true
    },
    "kernelspec": {
      "name": "python3",
      "display_name": "Python 3"
    }
  },
  "cells": [
    {
      "cell_type": "markdown",
      "metadata": {
        "id": "view-in-github",
        "colab_type": "text"
      },
      "source": [
        "<a href=\"https://colab.research.google.com/github/shilongjaycui/mathematical-programming/blob/main/basis_finding.ipynb\" target=\"_parent\"><img src=\"https://colab.research.google.com/assets/colab-badge.svg\" alt=\"Open In Colab\"/></a>"
      ]
    },
    {
      "cell_type": "markdown",
      "metadata": {
        "id": "PlXkShWW7xRL"
      },
      "source": [
        "Problem 1"
      ]
    },
    {
      "cell_type": "code",
      "metadata": {
        "id": "0QigEAPP7yFG",
        "colab": {
          "base_uri": "https://localhost:8080/",
          "height": 52
        },
        "outputId": "cec55d1f-2110-4603-e85d-0fcf978c6190"
      },
      "source": [
        "import sympy as sp\n",
        "\n",
        "def vec_basis(M):\n",
        "  N = sp.Matrix(M).T #T: transpose\n",
        "  m = N.rref()[1]\n",
        "  B = []\n",
        "  for i in m:\n",
        "    B.append(M[i])\n",
        "  return B\n",
        "\n",
        "print(vec_basis([[1,2],[2,1],[0,1]]))\n",
        "print(vec_basis([[1,2,3],[3,4,5],[6,7,8]]))"
      ],
      "execution_count": null,
      "outputs": [
        {
          "output_type": "stream",
          "text": [
            "[[1, 2], [2, 1]]\n",
            "[[1, 2, 3], [3, 4, 5]]\n"
          ],
          "name": "stdout"
        }
      ]
    },
    {
      "cell_type": "markdown",
      "metadata": {
        "id": "ycFHvBOfd3qc"
      },
      "source": [
        "Problem 2"
      ]
    },
    {
      "cell_type": "code",
      "metadata": {
        "id": "0lIO529gd5JP",
        "colab": {
          "base_uri": "https://localhost:8080/",
          "height": 52
        },
        "outputId": "fc488e0f-4d3b-4fef-ea80-ec100cd9027f"
      },
      "source": [
        "def lin_deps(A):\n",
        "  B = sp.Matrix(A).T\n",
        "  C,leading_terms = B.rref()\n",
        "  D = []\n",
        "  for i in range(B.shape[1]):\n",
        "    if i not in leading_terms:\n",
        "      v = [0 for j in range(B.shape[1])]\n",
        "      v[i] = 1\n",
        "      for k in range(B.shape[0]):\n",
        "        if k < len(leading_terms):\n",
        "          v[leading_terms[k]] = -C[k,i]\n",
        "      D.append(v)\n",
        "  return D\n",
        "\n",
        "x = sp.Matrix([[1,5],[2,10],[3,6],[4,11]])\n",
        "print(lin_deps(x))\n",
        "\n",
        "y = sp.Matrix([[1,6,11],[2,7,12],[3,8,13],[4,9,14],[5,10,15]])\n",
        "print(lin_deps(y))\n",
        "    "
      ],
      "execution_count": null,
      "outputs": [
        {
          "output_type": "stream",
          "text": [
            "[[-2, 1, 0, 0], [-1, 0, -1, 1]]\n",
            "[[1, -2, 1, 0, 0], [2, -3, 0, 1, 0], [3, -4, 0, 0, 1]]\n"
          ],
          "name": "stdout"
        }
      ]
    }
  ]
}