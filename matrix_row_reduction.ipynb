{
  "nbformat": 4,
  "nbformat_minor": 0,
  "metadata": {
    "colab": {
      "name": "matrix_row_reduction",
      "provenance": [],
      "collapsed_sections": [],
      "include_colab_link": true
    },
    "kernelspec": {
      "name": "python3",
      "display_name": "Python 3"
    }
  },
  "cells": [
    {
      "cell_type": "markdown",
      "metadata": {
        "id": "view-in-github",
        "colab_type": "text"
      },
      "source": [
        "<a href=\"https://colab.research.google.com/github/shilongjaycui/mathematical-programming/blob/main/matrix_row_reduction.ipynb\" target=\"_parent\"><img src=\"https://colab.research.google.com/assets/colab-badge.svg\" alt=\"Open In Colab\"/></a>"
      ]
    },
    {
      "cell_type": "markdown",
      "metadata": {
        "id": "iYeg9BlFe47E"
      },
      "source": [
        "Problem 1"
      ]
    },
    {
      "cell_type": "code",
      "metadata": {
        "id": "uFPZRT_se5rM",
        "colab": {
          "base_uri": "https://localhost:8080/",
          "height": 51
        },
        "outputId": "d7720f7c-05e8-4eba-e355-5a6dd2a1f5cb"
      },
      "source": [
        "A = []\n",
        "i = int\n",
        "j = int\n",
        "\n",
        "def row_swap(A, i, j):\n",
        "  '''Return the matrix obtained from A with rows i and j swapped.'''\n",
        "  t = [[A[k][l] for l in range(len(A[k]))] for k in range(len(A))] #create a matrix t that's identical to matrix A using list comprehension\n",
        "  t[i] = A[j] #set row i of t equal to row j of A, swapping rows i and j in t\n",
        "  t[j] = A[i] #set row j of t equal to row i of A, swapping rows j and i in t\n",
        "  return t\n",
        "\n",
        "print(row_swap([[1,-1,1],[0,1,3],[2,-2,0]], 0, 2))\n",
        "print(row_swap([[2,-1,3],[1,2,3]], 0, 1))"
      ],
      "execution_count": null,
      "outputs": [
        {
          "output_type": "stream",
          "text": [
            "[[2, -2, 0], [0, 1, 3], [1, -1, 1]]\n",
            "[[1, 2, 3], [2, -1, 3]]\n"
          ],
          "name": "stdout"
        }
      ]
    },
    {
      "cell_type": "markdown",
      "metadata": {
        "id": "3UQq8mVrj2Bm"
      },
      "source": [
        "Problem 2"
      ]
    },
    {
      "cell_type": "code",
      "metadata": {
        "id": "9oSrXSHUj3j_",
        "colab": {
          "base_uri": "https://localhost:8080/",
          "height": 51
        },
        "outputId": "a5853485-c784-46d0-a11b-79b10b21aa5f"
      },
      "source": [
        "s = int\n",
        "v = []\n",
        "\n",
        "def scalar_mult(s, v):\n",
        "  '''Return the product of scalar s and vector v.'''\n",
        "  i = 0\n",
        "  while i < len(v):\n",
        "    v[i] = s * v[i] #multiply individual elements of vector v by scalar s\n",
        "    i += 1\n",
        "  return v\n",
        "\n",
        "A = []\n",
        "i = int\n",
        "c = float\n",
        "\n",
        "def row_mult(A, i, c):\n",
        "  '''Return the matrix obtained from A with row i multiplied by c.'''\n",
        "  t = [[A[k][l] for l in range(len(A[k]))] for k in range(len(A))] #create a matrix t that's identical to matrix A using list comprehension\n",
        "  t[i] = scalar_mult(c, A[i]) #multiply the i-th row of t by a scalar c using the scalar_mult function\n",
        "  return t\n",
        "  \n",
        "print(row_mult([[1,1],[2,3]], 1, 3))\n",
        "print(row_mult([[1,1],[6,9]], 0, 0))"
      ],
      "execution_count": null,
      "outputs": [
        {
          "output_type": "stream",
          "text": [
            "[[1, 1], [6, 9]]\n",
            "[[0, 0], [6, 9]]\n"
          ],
          "name": "stdout"
        }
      ]
    },
    {
      "cell_type": "markdown",
      "metadata": {
        "id": "iQUDfIWLoZWd"
      },
      "source": [
        "Problem 3"
      ]
    },
    {
      "cell_type": "code",
      "metadata": {
        "id": "geDjTuxhocNd",
        "colab": {
          "base_uri": "https://localhost:8080/",
          "height": 68
        },
        "outputId": "a178e63c-4b9d-4f2e-e139-c7aaca1b2bb8"
      },
      "source": [
        "s = int\n",
        "v = []\n",
        "\n",
        "def scalar_mult(s, v):\n",
        "  '''Return the product of scalar s and vector v.'''\n",
        "  return [s * v[i] for i in range(len(v))] #Changed the while loop to a list comprehension & multiply individual elements of vector v by scalar s\n",
        "\n",
        "v = []\n",
        "w = []\n",
        "\n",
        "def vector_add(v, w):\n",
        "  '''Returns the vector v + w.'''\n",
        "  if len(v) == len(w): #check and see if the vectors have the same size\n",
        "    return [v[i] + w[i] for i in range(len(v))] #vector addition: v + w = [v1+w1, v2+w2, ... , vn+wn]\n",
        "  else:\n",
        "    raise Exception('Error: Vectors are different sizes')\n",
        "\n",
        "A = []\n",
        "i = int\n",
        "j = int\n",
        "c = float\n",
        "\n",
        "def row_add(A, i, j, c):\n",
        "  '''Return the matrix obtained from A with row i replaced with itself plus c times row j.'''\n",
        "  t = [[A[k][l] for l in range(len(A[k]))] for k in range(len(A))] #create a matrix t that's identical to matrix A using list comprehension\n",
        "  t[i] = vector_add(t[i], scalar_mult(c, A[j])) #replace row i of t with itself plus c times row j\n",
        "  return t\n",
        "\n",
        "print(row_add([[0,1,1],[1,-1,3],[1,3,2]], 2, 0, -3))\n",
        "print(row_add([[2,1],[1,-2]], 0, 1, 0))\n",
        "print(row_add([[-81, 94, 71], [-62, -94, -52], [-70, -49, 32], [-19, -56, 65], [60, -22, -70], [65, 90, 78]], 0, 0, -88))"
      ],
      "execution_count": null,
      "outputs": [
        {
          "output_type": "stream",
          "text": [
            "[[0, 1, 1], [1, -1, 3], [1, 0, -1]]\n",
            "[[2, 1], [1, -2]]\n",
            "[[7047, -8178, -6177], [-62, -94, -52], [-70, -49, 32], [-19, -56, 65], [60, -22, -70], [65, 90, 78]]\n"
          ],
          "name": "stdout"
        }
      ]
    }
  ]
}