{
  "nbformat": 4,
  "nbformat_minor": 0,
  "metadata": {
    "colab": {
      "name": "stochastic_matrices",
      "provenance": [],
      "collapsed_sections": [],
      "include_colab_link": true
    },
    "kernelspec": {
      "name": "python3",
      "display_name": "Python 3"
    }
  },
  "cells": [
    {
      "cell_type": "markdown",
      "metadata": {
        "id": "view-in-github",
        "colab_type": "text"
      },
      "source": [
        "<a href=\"https://colab.research.google.com/github/shilongjaycui/mathematical-programming/blob/main/stochastic_matrices.ipynb\" target=\"_parent\"><img src=\"https://colab.research.google.com/assets/colab-badge.svg\" alt=\"Open In Colab\"/></a>"
      ]
    },
    {
      "cell_type": "markdown",
      "metadata": {
        "id": "eRW3F9rZAGnz"
      },
      "source": [
        "Problem 1"
      ]
    },
    {
      "cell_type": "code",
      "metadata": {
        "id": "WnJCx-K1AHWL",
        "colab": {
          "base_uri": "https://localhost:8080/",
          "height": 85
        },
        "outputId": "2cf2dc88-c406-4566-dbd6-03f2e0f1aa40"
      },
      "source": [
        "import sympy as sp\n",
        "\n",
        "def is_stochastic(M):\n",
        "  if M.shape[0] != M.shape[1]: #is the matrix square?\n",
        "    return False\n",
        "  else:\n",
        "    for j in range(M.shape[1]):\n",
        "      column_sum = 0 #don't forget to reset column_sum to 0 everytime you move to a new column!\n",
        "      for i in range(M.shape[0]):\n",
        "        if M[i,j] < 0: #is every entry non-negative?\n",
        "          return False\n",
        "        else:\n",
        "          column_sum += M[i,j]\n",
        "          i += 1\n",
        "      if column_sum != 1: #do the entries of each column add up to 1?\n",
        "        return False\n",
        "      else:\n",
        "        j += 1\n",
        "    return True\n",
        "\n",
        "A = sp.Matrix([[.3,.9],[.7,.1]])\n",
        "print(is_stochastic(A))\n",
        "B = sp.Matrix([[1,.5,.4],[0,.5,.3],[0,0,.3]])\n",
        "print(is_stochastic(B))\n",
        "C = sp.Matrix([[1,2,3],[4,5,6]])\n",
        "print(is_stochastic(C))\n",
        "D = sp.Matrix([[.6,.3,.2],[.5,.5,.3],[-.1,.2,.5]])\n",
        "print(is_stochastic(D))"
      ],
      "execution_count": null,
      "outputs": [
        {
          "output_type": "stream",
          "text": [
            "True\n",
            "True\n",
            "False\n",
            "False\n"
          ],
          "name": "stdout"
        }
      ]
    },
    {
      "cell_type": "markdown",
      "metadata": {
        "id": "eex9SGICJtrW"
      },
      "source": [
        "Problem 2"
      ]
    },
    {
      "cell_type": "code",
      "metadata": {
        "id": "15Dw9ZD4Jwau",
        "colab": {
          "base_uri": "https://localhost:8080/",
          "height": 102
        },
        "outputId": "3cceca6e-42e4-4635-d331-4b40c0566d01"
      },
      "source": [
        "M = sp.Matrix([[1,0],[0,1]])\n",
        "print(M.eigenvects())"
      ],
      "execution_count": null,
      "outputs": [
        {
          "output_type": "stream",
          "text": [
            "[(1, 2, [Matrix([\n",
            "[1],\n",
            "[0]]), Matrix([\n",
            "[0],\n",
            "[1]])])]\n"
          ],
          "name": "stdout"
        }
      ]
    },
    {
      "cell_type": "code",
      "metadata": {
        "id": "rY9CKK8dRBDo",
        "colab": {
          "base_uri": "https://localhost:8080/",
          "height": 102
        },
        "outputId": "c7560676-2a77-42a6-ace9-986e43b781cb"
      },
      "source": [
        "N = sp.Matrix([[0.3,0.9],[0.7,0.1]])\n",
        "print(N.eigenvects())"
      ],
      "execution_count": null,
      "outputs": [
        {
          "output_type": "stream",
          "text": [
            "[(-0.600000000000000, 1, [Matrix([\n",
            "[-1.0],\n",
            "[ 1.0]])]), (1.00000000000000, 1, [Matrix([\n",
            "[1.28571428571429],\n",
            "[             1.0]])])]\n"
          ],
          "name": "stdout"
        }
      ]
    },
    {
      "cell_type": "code",
      "metadata": {
        "id": "JPmu6Vt2S3Y0",
        "colab": {
          "base_uri": "https://localhost:8080/",
          "height": 323
        },
        "outputId": "517de9e8-df72-49f1-b542-6edab67a037a"
      },
      "source": [
        "def stochastic_limit(M):\n",
        "  if is_stochastic(M) == False:\n",
        "    raise Exception(\"Error: the input matrix is not stochastic\")\n",
        "  else:\n",
        "    for i in range(M.shape[0]):\n",
        "      for j in range(M.shape[1]):\n",
        "        if M[i,j] == 0:\n",
        "          eigenspace = M.eigenvects()\n",
        "          bases = []\n",
        "          for m in eigenspace:\n",
        "            if abs(m[0]) == 1:\n",
        "              for n in m[2]:\n",
        "                bases.append(n)\n",
        "          return bases\n",
        "    eigenspace = M.eigenvects()\n",
        "    for m in eigenspace:\n",
        "      if abs(m[0]) == 1:\n",
        "        vector = m[2][0]\n",
        "        vector = vector / sum(vector)\n",
        "        return vector\n",
        "\n",
        "A = sp.Matrix([[.3,.9],[.7,.1]])\n",
        "print(stochastic_limit(A))\n",
        "B = sp.Matrix([[1,.4,0],[0,.4,0],[0,.2,1]])\n",
        "print(stochastic_limit(B))\n",
        "C = sp.Matrix([[0,0,1],[1,0,0],[0,1,0]])\n",
        "print(stochastic_limit(C))"
      ],
      "execution_count": null,
      "outputs": [
        {
          "output_type": "stream",
          "text": [
            "Matrix([[0.562500000000000], [0.437500000000000]])\n",
            "[Matrix([\n",
            "[1.0],\n",
            "[  0],\n",
            "[  0]]), Matrix([\n",
            "[  0],\n",
            "[  0],\n",
            "[1.0]])]\n",
            "[Matrix([\n",
            "[1],\n",
            "[1],\n",
            "[1]]), Matrix([\n",
            "[   -1/(1/2 + sqrt(3)*I/2)],\n",
            "[(1/2 + sqrt(3)*I/2)**(-2)],\n",
            "[                        1]]), Matrix([\n",
            "[   -1/(1/2 - sqrt(3)*I/2)],\n",
            "[(1/2 - sqrt(3)*I/2)**(-2)],\n",
            "[                        1]])]\n"
          ],
          "name": "stdout"
        }
      ]
    }
  ]
}