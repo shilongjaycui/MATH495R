{
  "nbformat": 4,
  "nbformat_minor": 0,
  "metadata": {
    "colab": {
      "name": "monte_carlo",
      "provenance": [],
      "collapsed_sections": [],
      "authorship_tag": "ABX9TyMH2IeVwLf1z7tl4taMHIQk",
      "include_colab_link": true
    },
    "kernelspec": {
      "name": "python3",
      "display_name": "Python 3"
    }
  },
  "cells": [
    {
      "cell_type": "markdown",
      "metadata": {
        "id": "view-in-github",
        "colab_type": "text"
      },
      "source": [
        "<a href=\"https://colab.research.google.com/github/shilongjaycui/mathematical-programming/blob/main/monte_carlo.ipynb\" target=\"_parent\"><img src=\"https://colab.research.google.com/assets/colab-badge.svg\" alt=\"Open In Colab\"/></a>"
      ]
    },
    {
      "cell_type": "code",
      "metadata": {
        "id": "yUz4TToAOTRJ",
        "colab": {
          "base_uri": "https://localhost:8080/",
          "height": 34
        },
        "outputId": "fefbb508-1795-46af-9edd-7cc99837e9a5"
      },
      "source": [
        "import numpy as np\n",
        "import scipy.linalg as la\n",
        "\n",
        "points = np.random.uniform(-1, 1, (2, 10000))\n",
        "lengths = la.norm(points, axis=0)\n",
        "num_within = np.count_nonzero(lengths < 1)\n",
        "4 * (num_within / 10000)"
      ],
      "execution_count": null,
      "outputs": [
        {
          "output_type": "execute_result",
          "data": {
            "text/plain": [
              "3.142"
            ]
          },
          "metadata": {
            "tags": []
          },
          "execution_count": 2
        }
      ]
    },
    {
      "cell_type": "markdown",
      "metadata": {
        "id": "7LuFA2HAsjcp"
      },
      "source": [
        "Problem 1"
      ]
    },
    {
      "cell_type": "code",
      "metadata": {
        "id": "gQZMRydKskCJ",
        "colab": {
          "base_uri": "https://localhost:8080/",
          "height": 51
        },
        "outputId": "3cb8504c-2c3a-45d3-95d5-1e7b2eb68614"
      },
      "source": [
        "def volume(n, N=10**4):\n",
        "  points = np.random.uniform(-1, 1, (n, N))\n",
        "  lengths = la.norm(points, axis=0)\n",
        "  num_within = np.count_nonzero(lengths < 1)\n",
        "  return 2**n * (num_within / N)\n",
        "\n",
        "print(volume(2))\n",
        "print(volume(3))"
      ],
      "execution_count": null,
      "outputs": [
        {
          "output_type": "stream",
          "text": [
            "3.146\n",
            "4.236\n"
          ],
          "name": "stdout"
        }
      ]
    },
    {
      "cell_type": "markdown",
      "metadata": {
        "id": "CwvsEiyvvEaF"
      },
      "source": [
        "Problem 2"
      ]
    },
    {
      "cell_type": "code",
      "metadata": {
        "id": "O-Y6j4RTvE6P",
        "colab": {
          "base_uri": "https://localhost:8080/",
          "height": 68
        },
        "outputId": "f349962f-3c72-476c-98d3-1f6eb91b4cd1"
      },
      "source": [
        "def integral_1D(f, a, b, N=10**4):\n",
        "  points = np.random.uniform(a, b, (1, N))\n",
        "  sum = 0\n",
        "  for point in points[0]:\n",
        "    sum += f(point)\n",
        "  return sum * (b - a) / N\n",
        "\n",
        "f1 = lambda x: x**2\n",
        "f2 = lambda x: np.sin(x)\n",
        "f3 = lambda x: 1/x\n",
        "\n",
        "print(integral_1D(f1, -4, 2))\n",
        "print(integral_1D(f2, -2*np.pi, 2*np.pi))\n",
        "print(integral_1D(f3, 1, 10))"
      ],
      "execution_count": null,
      "outputs": [
        {
          "output_type": "stream",
          "text": [
            "23.653864160272672\n",
            "0.007940678533526516\n",
            "2.2969602945835472\n"
          ],
          "name": "stdout"
        }
      ]
    },
    {
      "cell_type": "markdown",
      "metadata": {
        "id": "tzMwrV-syyEY"
      },
      "source": [
        "Problem 3"
      ]
    },
    {
      "cell_type": "code",
      "metadata": {
        "id": "kOfrhuajyymd",
        "colab": {
          "base_uri": "https://localhost:8080/",
          "height": 68
        },
        "outputId": "cf0da343-88bc-446f-f140-3643484ca5fb"
      },
      "source": [
        "def integral(f, a_list, b_list, N=10**4):\n",
        "  n = len(a_list)\n",
        "  # for a, b in zip(a_list, b_list):\n",
        "  points = np.random.uniform(0, 1, (n, N))\n",
        "  volume = 1\n",
        "  for i in range(n):\n",
        "    points[i] *= (b_list[i] - a_list[i])\n",
        "    points[i] += a_list[i]\n",
        "    volume = volume * (b_list[i] - a_list[i])\n",
        "  return sum(f(points)) * volume / N\n",
        "\n",
        "f4 = lambda x: x[0]**2 + x[1]**2\n",
        "f5 = lambda x: 3*x[0] - 4*x[1] + x[1]**2\n",
        "f6 = lambda x: x[0] + x[1] - x[3]*x[2]**2\n",
        "\n",
        "print(integral(f4, [0, 0], [1, 1]))\n",
        "print(integral(f5, [1, -2], [3, 1]))\n",
        "print(integral(f6, [-1, -2, -3, -4], [1, 2, 3, 4], 10**7))"
      ],
      "execution_count": null,
      "outputs": [
        {
          "output_type": "stream",
          "text": [
            "0.669267674116384\n",
            "54.20892692870249\n",
            "0.8349711270076294\n"
          ],
          "name": "stdout"
        }
      ]
    }
  ]
}