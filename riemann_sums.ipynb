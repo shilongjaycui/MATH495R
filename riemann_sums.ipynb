{
  "nbformat": 4,
  "nbformat_minor": 0,
  "metadata": {
    "colab": {
      "name": "riemann_sums",
      "provenance": [],
      "collapsed_sections": [],
      "include_colab_link": true
    },
    "kernelspec": {
      "name": "python3",
      "display_name": "Python 3"
    }
  },
  "cells": [
    {
      "cell_type": "markdown",
      "metadata": {
        "id": "view-in-github",
        "colab_type": "text"
      },
      "source": [
        "<a href=\"https://colab.research.google.com/github/shilongjaycui/mathematical-programming/blob/main/riemann_sums.ipynb\" target=\"_parent\"><img src=\"https://colab.research.google.com/assets/colab-badge.svg\" alt=\"Open In Colab\"/></a>"
      ]
    },
    {
      "cell_type": "markdown",
      "metadata": {
        "id": "le71xrDwOWIQ"
      },
      "source": [
        "Problem 1"
      ]
    },
    {
      "cell_type": "code",
      "metadata": {
        "id": "f8XQ_jrfOV0P"
      },
      "source": [
        "def riemann_sum_2D(f, xMin, xMax, yMin, yMax, N, method):\n",
        "  Δx = (xMax - xMin)/N\n",
        "  Δy = (yMax - yMin)/N\n",
        "  ΔA = Δx * Δy\n",
        "  yMin0 = yMin\n",
        "  r_sum = 0\n",
        "  i = 1\n",
        "  j = 1\n",
        "  while i <= N:\n",
        "    while j <= N:\n",
        "      if method == 'left':\n",
        "        r_sum += f(xMin, yMin) * ΔA\n",
        "      elif method == 'mid':\n",
        "        r_sum += f(xMin + 0.5*Δx, yMin + 0.5*Δy) * ΔA\n",
        "      elif method == 'right':\n",
        "        r_sum += f(xMin + Δx, yMin + Δy) * ΔA\n",
        "      yMin += Δy\n",
        "      j += 1\n",
        "    yMin = yMin0\n",
        "    j = 1\n",
        "    xMin += Δx\n",
        "    i += 1\n",
        "  \n",
        "  return r_sum"
      ],
      "execution_count": null,
      "outputs": []
    },
    {
      "cell_type": "markdown",
      "metadata": {
        "id": "WzXRBBfxaY5J"
      },
      "source": [
        "Problem 2"
      ]
    },
    {
      "cell_type": "code",
      "metadata": {
        "id": "rsTpbSSpaZnW",
        "colab": {
          "base_uri": "https://localhost:8080/",
          "height": 119
        },
        "outputId": "a017ea27-4012-496e-a457-7bd645df1217"
      },
      "source": [
        "import numpy as np\n",
        "f1 = lambda x, y: x*np.sin(x*y)\n",
        "f2 = lambda x, y: y**2 * np.exp(-x-y)\n",
        "f3 = lambda x, y: x**3 * x**2 + x*y\n",
        "\n",
        "print(riemann_sum_2D(f1, 0, np.pi, 0, np.pi, 10, 'mid'))\n",
        "print(riemann_sum_2D(f1, 0, np.pi, 0, np.pi, 20, 'mid'))\n",
        "print(riemann_sum_2D(f2, 0, 1, 0, 1, 10, 'mid'))\n",
        "print(riemann_sum_2D(f2, 0, 1, 0, 1, 20, 'mid'))\n",
        "print(riemann_sum_2D(f3, 0, 1, 1, 2, 10, 'mid'))\n",
        "print(riemann_sum_2D(f3, 0, 1, 1, 2, 20, 'mid'))"
      ],
      "execution_count": null,
      "outputs": [
        {
          "output_type": "stream",
          "text": [
            "3.335619689249047\n",
            "3.2926027753992186\n",
            "0.1013816192996159\n",
            "0.10148555992657288\n",
            "0.9145906250000004\n",
            "0.9161462890625012\n"
          ],
          "name": "stdout"
        }
      ]
    },
    {
      "cell_type": "markdown",
      "metadata": {
        "id": "eIRLGggqdcVq"
      },
      "source": [
        "Problem 3"
      ]
    },
    {
      "cell_type": "code",
      "metadata": {
        "id": "YhE-uCgVdc2M",
        "colab": {
          "base_uri": "https://localhost:8080/",
          "height": 265
        },
        "outputId": "9e0fedc1-ce4f-4369-bd2e-4fbfb5c71653"
      },
      "source": [
        "import sympy as sp\n",
        "import matplotlib.pyplot as plt\n",
        "\n",
        "value = sp.integrate(x*sp.sin(x + y), (x, 0, sp.pi/6), (y, 0, sp.pi/3))\n",
        "\n",
        "f4 = lambda x, y: x*np.sin(x + y)\n",
        "\n",
        "errors = []\n",
        "for N in range(1, 101):\n",
        "  approximation = riemann_sum_2D(f4,0, np.pi/6, 0, np.pi/3, N, 'mid')\n",
        "  error = abs(value - approximation)\n",
        "  errors.append(error)\n",
        "\n",
        "plt.plot(range(1, 101), errors)\n",
        "plt.show()"
      ],
      "execution_count": null,
      "outputs": [
        {
          "output_type": "display_data",
          "data": {
            "image/png": "[encoded data removed]",
            "text/plain": [
              "<Figure size 432x288 with 1 Axes>"
            ]
          },
          "metadata": {
            "tags": []
          }
        }
      ]
    },
    {
      "cell_type": "markdown",
      "metadata": {
        "id": "eNdntsbINFav"
      },
      "source": [
        "Problem 4"
      ]
    },
    {
      "cell_type": "code",
      "metadata": {
        "id": "hrBmUo2sJfZC"
      },
      "source": [
        "def riemann_sum_3D(f, xMin, xMax, yMin, yMax, zMin, zMax, N, method):\n",
        "  Δx = (xMax - xMin)/N\n",
        "  Δy = (yMax - yMin)/N\n",
        "  Δz = (zMax - zMin)/N\n",
        "  ΔV = Δx * Δy * Δz\n",
        "  yMin0 = yMin\n",
        "  zMin0 = zMin\n",
        "  r_sum = 0\n",
        "  i = 1\n",
        "  j = 1\n",
        "  k = 1\n",
        "  while i <= N:\n",
        "    while j <= N:\n",
        "      while k <= N:\n",
        "        if method == 'left':\n",
        "          r_sum += f(xMin, yMin, zMin) * ΔV\n",
        "        elif method == 'mid':\n",
        "          r_sum += f(xMin + 0.5*Δx, yMin + 0.5*Δy, zMin + 0.5*Δz) * ΔV\n",
        "        elif method == 'right':\n",
        "          r_sum += f(xMin + Δx, yMin + Δy, zMin + Δz) * ΔV\n",
        "        zMin += Δz\n",
        "        k += 1\n",
        "      zMin = zMin0\n",
        "      k = 1\n",
        "      yMin += Δy\n",
        "      j += 1\n",
        "    yMin = yMin0\n",
        "    j = 1\n",
        "    xMin += Δx\n",
        "    i += 1\n",
        "  \n",
        "  return r_sum"
      ],
      "execution_count": null,
      "outputs": []
    },
    {
      "cell_type": "markdown",
      "metadata": {
        "id": "uZPcOW87OYwc"
      },
      "source": [
        "Problem 5"
      ]
    },
    {
      "cell_type": "code",
      "metadata": {
        "id": "dj7YMYBMOaIu",
        "colab": {
          "base_uri": "https://localhost:8080/",
          "height": 51
        },
        "outputId": "42108b8c-1cd6-4d08-eae8-f156156cda8a"
      },
      "source": [
        "f5 = lambda x, y, z: x*y + z**2\n",
        "\n",
        "print(riemann_sum_3D(f5, 0, 2, 0, 1, 0, 3, 10, 'mid'))\n",
        "print(riemann_sum_3D(f5, 0, 2, 0, 1, 0, 3, 20, 'mid'))"
      ],
      "execution_count": null,
      "outputs": [
        {
          "output_type": "stream",
          "text": [
            "20.955\n",
            "20.98875000000004\n"
          ],
          "name": "stdout"
        }
      ]
    }
  ]
}