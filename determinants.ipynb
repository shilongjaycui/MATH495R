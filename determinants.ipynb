{
  "nbformat": 4,
  "nbformat_minor": 0,
  "metadata": {
    "colab": {
      "name": "determinants",
      "provenance": [],
      "collapsed_sections": [],
      "include_colab_link": true
    },
    "kernelspec": {
      "name": "python3",
      "display_name": "Python 3"
    }
  },
  "cells": [
    {
      "cell_type": "markdown",
      "metadata": {
        "id": "view-in-github",
        "colab_type": "text"
      },
      "source": [
        "<a href=\"https://colab.research.google.com/github/shilongjaycui/mathematical-programming/blob/main/determinants.ipynb\" target=\"_parent\"><img src=\"https://colab.research.google.com/assets/colab-badge.svg\" alt=\"Open In Colab\"/></a>"
      ]
    },
    {
      "cell_type": "code",
      "metadata": {
        "id": "IsSLEmAkFD2E",
        "colab": {
          "base_uri": "https://localhost:8080/",
          "height": 102
        },
        "outputId": "dd1ff5cd-8a2b-4757-f43d-e56b5a824380"
      },
      "source": [
        "import scipy.linalg as la\n",
        "import sympy as sp\n",
        "A = sp.Matrix([[1,2],[1,1]])\n",
        "\n",
        "print(la.lu(A))\n",
        "\n",
        "print(A.shape)"
      ],
      "execution_count": null,
      "outputs": [
        {
          "output_type": "stream",
          "text": [
            "(array([[1., 0.],\n",
            "       [0., 1.]]), array([[1., 0.],\n",
            "       [1., 1.]]), array([[ 1.,  2.],\n",
            "       [ 0., -1.]]))\n",
            "(2, 2)\n"
          ],
          "name": "stdout"
        }
      ]
    },
    {
      "cell_type": "markdown",
      "metadata": {
        "id": "gQ6clqiINiId"
      },
      "source": [
        "Problem 1"
      ]
    },
    {
      "cell_type": "code",
      "metadata": {
        "id": "A1y2kRKfNjHN",
        "colab": {
          "base_uri": "https://localhost:8080/",
          "height": 68
        },
        "outputId": "004a6060-8619-4aa5-9b8e-1d53a399a173"
      },
      "source": [
        "def det_rec(M):\n",
        "  M = sp.Matrix(M) #convert to sympy matrix inside/outside the function\n",
        "  det = 0\n",
        "  if M.shape[0] == 1 and M.shape[1] == 1: #base case: see if M is 1 by 1\n",
        "    return M[0,0]\n",
        "  else:\n",
        "    j = 0\n",
        "    for j in range(M.shape[1]):\n",
        "      M1 = sp.Matrix(M) #make a copy of M and do operations on the copy so that M never changes as the loop runs\n",
        "      M1.row_del(0) #delete 0th row\n",
        "      M1.col_del(j) #delete jth column\n",
        "      det += (-1)**j*M[0,j] * det_rec(M1) #cofactor expansion\n",
        "    return det\n",
        "\n",
        "print(det_rec([[1,2],[1,1]]))\n",
        "print(det_rec([[1,2,3],[1,1,1],[1,0,1]]))\n",
        "print(det_rec([[1,2,3,4,5],[1,1,1,0,0],[1,0,1,0,1],[0,-1,0,-1,-2],\n",
        "[1,1,1,1,1]]))"
      ],
      "execution_count": null,
      "outputs": [
        {
          "output_type": "stream",
          "text": [
            "-1\n",
            "-2\n",
            "-4\n"
          ],
          "name": "stdout"
        }
      ]
    },
    {
      "cell_type": "markdown",
      "metadata": {
        "id": "WNqr_1P2XFQE"
      },
      "source": [
        "Problem 2"
      ]
    },
    {
      "cell_type": "code",
      "metadata": {
        "id": "n5yZJHneXGOK",
        "colab": {
          "base_uri": "https://localhost:8080/",
          "height": 68
        },
        "outputId": "582806d4-bddf-49c8-dd49-6f29450cd818"
      },
      "source": [
        "def det_LU(M):\n",
        "  M = sp.Matrix(M)\n",
        "  U = sp.Matrix(la.lu(M)[2])\n",
        "  product = 1\n",
        "  for i in range(U.shape[0]):\n",
        "    for j in range(U.shape[1]):\n",
        "      if i == j:\n",
        "        product *= U[i,j]\n",
        "  return float(product)\n",
        "\n",
        "print(det_LU([[1,2],[1,1]]))\n",
        "print(det_LU([[1,2,3],[1,1,1],[1,0,1]]))\n",
        "print(det_LU([[1,2,3,4,5],[1,1,1,0,0],[1,0,1,0,1],[0,-1,0,-1,-2],\n",
        "[1,1,1,1,1]]))"
      ],
      "execution_count": null,
      "outputs": [
        {
          "output_type": "stream",
          "text": [
            "-1.0\n",
            "2.0\n",
            "4.0\n"
          ],
          "name": "stdout"
        }
      ]
    }
  ]
}