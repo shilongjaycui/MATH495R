{
 "cells": [
  {
   "cell_type": "code",
   "execution_count": 12,
   "metadata": {},
   "outputs": [],
   "source": [
    "import numpy as np\n",
    "import scipy.optimize as opt\n",
    "\n",
    "def newton(df, d2f, x0, tol, maxiter):\n",
    "    numiter = 0\n",
    "    converge = False\n",
    "    i = 0\n",
    "    while i < maxiter:\n",
    "        x0 = x0 - df(x0)/d2f(x0)\n",
    "        numiter += 1\n",
    "        if x0 < tol:\n",
    "            converge = True\n",
    "            return x0, converge, numiter\n",
    "        i += 1\n",
    "    return x0, converge, maxiter"
   ]
  },
  {
   "cell_type": "code",
   "execution_count": 13,
   "metadata": {},
   "outputs": [
    {
     "name": "stdout",
     "output_type": "stream",
     "text": [
      "(-2.5, True, 1)\n",
      "-1.4473142257960008\n"
     ]
    }
   ],
   "source": [
    "df = lambda x: 2*x + 5*np.cos(5*x)\n",
    "d2f = lambda x: 2 - 25*np.sin(5*x)\n",
    "print(newton(df=df, d2f=d2f, x0=0, tol=np.exp(-10), maxiter=500))\n",
    "print(opt.newton(df, x0=0, fprime=d2f, tol=np.exp(-10), maxiter=500))"
   ]
  }
 ],
 "metadata": {
  "kernelspec": {
   "display_name": "Python 3",
   "language": "python",
   "name": "python3"
  },
  "language_info": {
   "codemirror_mode": {
    "name": "ipython",
    "version": 3
   },
   "file_extension": ".py",
   "mimetype": "text/x-python",
   "name": "python",
   "nbconvert_exporter": "python",
   "pygments_lexer": "ipython3",
   "version": "3.7.3"
  }
 },
 "nbformat": 4,
 "nbformat_minor": 2
}
