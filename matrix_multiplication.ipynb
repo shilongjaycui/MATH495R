{
  "nbformat": 4,
  "nbformat_minor": 0,
  "metadata": {
    "colab": {
      "name": "matrix_multiplication",
      "provenance": [],
      "collapsed_sections": [],
      "include_colab_link": true
    },
    "kernelspec": {
      "name": "python3",
      "display_name": "Python 3"
    }
  },
  "cells": [
    {
      "cell_type": "markdown",
      "metadata": {
        "id": "view-in-github",
        "colab_type": "text"
      },
      "source": [
        "<a href=\"https://colab.research.google.com/github/shilongjaycui/mathematical-programming/blob/main/matrix_multiplication.ipynb\" target=\"_parent\"><img src=\"https://colab.research.google.com/assets/colab-badge.svg\" alt=\"Open In Colab\"/></a>"
      ]
    },
    {
      "cell_type": "markdown",
      "metadata": {
        "id": "TkFfL8IpJOm7"
      },
      "source": [
        "Problem 1"
      ]
    },
    {
      "cell_type": "code",
      "metadata": {
        "id": "JI_BR16lJPJ1",
        "colab": {
          "base_uri": "https://localhost:8080/",
          "height": 334
        },
        "outputId": "3b8f9079-58b2-4667-9bc7-f6834f9d013d"
      },
      "source": [
        "v = []\n",
        "w = []\n",
        "\n",
        "def dot_product(v, w):\n",
        "  if len(v) == len(w):\n",
        "    return sum([v[i] * w[i] for i in range(len(v))])\n",
        "  else:\n",
        "    raise Exception('Error: Vectors are different sizes')\n",
        "\n",
        "M = []\n",
        "v = []\n",
        "\n",
        "def matXvec(M, v):\n",
        "  '''performs multiplication of a matrix M and a vector v'''\n",
        "  '''returns the vector Mv'''\n",
        "  for i in M:\n",
        "    if len(i) == len(v):\n",
        "      Mv = []\n",
        "      j = 0\n",
        "      while j < len(M):\n",
        "        Mv.append(dot_product(M[j], v))\n",
        "        j = j + 1\n",
        "      return Mv\n",
        "    else:\n",
        "      raise Exception('Error: Vectors are of different sizes')\n",
        "\n",
        "print(matXvec([[1, -1], [1, 2]],[2, -1]))\n",
        "print(matXvec([[0, 2], [1, 4]], [3, -1, 7]))"
      ],
      "execution_count": null,
      "outputs": [
        {
          "output_type": "stream",
          "text": [
            "[3, 0]\n"
          ],
          "name": "stdout"
        },
        {
          "output_type": "error",
          "ename": "Exception",
          "evalue": "ignored",
          "traceback": [
            "\u001b[0;31m---------------------------------------------------------------------------\u001b[0m",
            "\u001b[0;31mException\u001b[0m                                 Traceback (most recent call last)",
            "\u001b[0;32m<ipython-input-1-1f86deffd27a>\u001b[0m in \u001b[0;36m<module>\u001b[0;34m()\u001b[0m\n\u001b[1;32m     26\u001b[0m \u001b[0;34m\u001b[0m\u001b[0m\n\u001b[1;32m     27\u001b[0m \u001b[0mprint\u001b[0m\u001b[0;34m(\u001b[0m\u001b[0mmatXvec\u001b[0m\u001b[0;34m(\u001b[0m\u001b[0;34m[\u001b[0m\u001b[0;34m[\u001b[0m\u001b[0;36m1\u001b[0m\u001b[0;34m,\u001b[0m \u001b[0;34m-\u001b[0m\u001b[0;36m1\u001b[0m\u001b[0;34m]\u001b[0m\u001b[0;34m,\u001b[0m \u001b[0;34m[\u001b[0m\u001b[0;36m1\u001b[0m\u001b[0;34m,\u001b[0m \u001b[0;36m2\u001b[0m\u001b[0;34m]\u001b[0m\u001b[0;34m]\u001b[0m\u001b[0;34m,\u001b[0m\u001b[0;34m[\u001b[0m\u001b[0;36m2\u001b[0m\u001b[0;34m,\u001b[0m \u001b[0;34m-\u001b[0m\u001b[0;36m1\u001b[0m\u001b[0;34m]\u001b[0m\u001b[0;34m)\u001b[0m\u001b[0;34m)\u001b[0m\u001b[0;34m\u001b[0m\u001b[0;34m\u001b[0m\u001b[0m\n\u001b[0;32m---> 28\u001b[0;31m \u001b[0mprint\u001b[0m\u001b[0;34m(\u001b[0m\u001b[0mmatXvec\u001b[0m\u001b[0;34m(\u001b[0m\u001b[0;34m[\u001b[0m\u001b[0;34m[\u001b[0m\u001b[0;36m0\u001b[0m\u001b[0;34m,\u001b[0m \u001b[0;36m2\u001b[0m\u001b[0;34m]\u001b[0m\u001b[0;34m,\u001b[0m \u001b[0;34m[\u001b[0m\u001b[0;36m1\u001b[0m\u001b[0;34m,\u001b[0m \u001b[0;36m4\u001b[0m\u001b[0;34m]\u001b[0m\u001b[0;34m]\u001b[0m\u001b[0;34m,\u001b[0m \u001b[0;34m[\u001b[0m\u001b[0;36m3\u001b[0m\u001b[0;34m,\u001b[0m \u001b[0;34m-\u001b[0m\u001b[0;36m1\u001b[0m\u001b[0;34m,\u001b[0m \u001b[0;36m7\u001b[0m\u001b[0;34m]\u001b[0m\u001b[0;34m)\u001b[0m\u001b[0;34m)\u001b[0m\u001b[0;34m\u001b[0m\u001b[0;34m\u001b[0m\u001b[0m\n\u001b[0m",
            "\u001b[0;32m<ipython-input-1-1f86deffd27a>\u001b[0m in \u001b[0;36mmatXvec\u001b[0;34m(M, v)\u001b[0m\n\u001b[1;32m     23\u001b[0m       \u001b[0;32mreturn\u001b[0m \u001b[0mMv\u001b[0m\u001b[0;34m\u001b[0m\u001b[0;34m\u001b[0m\u001b[0m\n\u001b[1;32m     24\u001b[0m     \u001b[0;32melse\u001b[0m\u001b[0;34m:\u001b[0m\u001b[0;34m\u001b[0m\u001b[0;34m\u001b[0m\u001b[0m\n\u001b[0;32m---> 25\u001b[0;31m       \u001b[0;32mraise\u001b[0m \u001b[0mException\u001b[0m\u001b[0;34m(\u001b[0m\u001b[0;34m'Error: Vectors are of different sizes'\u001b[0m\u001b[0;34m)\u001b[0m\u001b[0;34m\u001b[0m\u001b[0;34m\u001b[0m\u001b[0m\n\u001b[0m\u001b[1;32m     26\u001b[0m \u001b[0;34m\u001b[0m\u001b[0m\n\u001b[1;32m     27\u001b[0m \u001b[0mprint\u001b[0m\u001b[0;34m(\u001b[0m\u001b[0mmatXvec\u001b[0m\u001b[0;34m(\u001b[0m\u001b[0;34m[\u001b[0m\u001b[0;34m[\u001b[0m\u001b[0;36m1\u001b[0m\u001b[0;34m,\u001b[0m \u001b[0;34m-\u001b[0m\u001b[0;36m1\u001b[0m\u001b[0;34m]\u001b[0m\u001b[0;34m,\u001b[0m \u001b[0;34m[\u001b[0m\u001b[0;36m1\u001b[0m\u001b[0;34m,\u001b[0m \u001b[0;36m2\u001b[0m\u001b[0;34m]\u001b[0m\u001b[0;34m]\u001b[0m\u001b[0;34m,\u001b[0m\u001b[0;34m[\u001b[0m\u001b[0;36m2\u001b[0m\u001b[0;34m,\u001b[0m \u001b[0;34m-\u001b[0m\u001b[0;36m1\u001b[0m\u001b[0;34m]\u001b[0m\u001b[0;34m)\u001b[0m\u001b[0;34m)\u001b[0m\u001b[0;34m\u001b[0m\u001b[0;34m\u001b[0m\u001b[0m\n",
            "\u001b[0;31mException\u001b[0m: Error: Vectors are of different sizes"
          ]
        }
      ]
    },
    {
      "cell_type": "markdown",
      "metadata": {
        "id": "Qjp8Ylj2WCDX"
      },
      "source": [
        "Problem 2"
      ]
    },
    {
      "cell_type": "code",
      "metadata": {
        "id": "EBP5LoLHWDdc",
        "colab": {
          "base_uri": "https://localhost:8080/",
          "height": 51
        },
        "outputId": "fca9e734-6bbc-4745-e9b2-e696bc6650d2"
      },
      "source": [
        "M = []\n",
        "i = int\n",
        "\n",
        "def mat_col(M, i):\n",
        "  c = []\n",
        "  j = 0\n",
        "  while j < len(M):\n",
        "    c.append(M[j][i])\n",
        "    j = j + 1\n",
        "  return c\n",
        "\n",
        "print(mat_col([[1, 2], [3, 4]], 0))\n",
        "print(mat_col([[1, 2, 3], [3, 4, 5], [5, 6, 7]], 2))"
      ],
      "execution_count": null,
      "outputs": [
        {
          "output_type": "stream",
          "text": [
            "[1, 3]\n",
            "[3, 5, 7]\n"
          ],
          "name": "stdout"
        }
      ]
    },
    {
      "cell_type": "markdown",
      "metadata": {
        "id": "as_-V-Um0elx"
      },
      "source": [
        "Problem 3"
      ]
    },
    {
      "cell_type": "code",
      "metadata": {
        "id": "2BflQNhNGp20",
        "colab": {
          "base_uri": "https://localhost:8080/",
          "height": 51
        },
        "outputId": "3b95be92-846f-43ad-855f-13b35d052fc8"
      },
      "source": [
        "M = []\n",
        "N = []\n",
        "\n",
        "def mat_mult(M, N):\n",
        "  '''takes as input two matrices M and N and returns their product MN'''\n",
        "  for i in M: #i: rows in M\n",
        "    if len(i) == len(N):\n",
        "      MN = []\n",
        "    for l in N: #l: rows in N\n",
        "      j = 0 #j: row indices in M\n",
        "      while j < len(M):\n",
        "        MN1 = []\n",
        "        k = 0 #k: column indices in N\n",
        "        while k < len(l):\n",
        "          MN1.append(dot_product(M[j], mat_col(N, k)))\n",
        "          k = k + 1\n",
        "\n",
        "        MN.append(MN1)\n",
        "        j = j + 1\n",
        "      \n",
        "      return MN\n",
        "    \n",
        "    else:\n",
        "      raise Exception('Error: # of columns in M does not equal to # of rows in N')\n",
        "\n",
        "print(mat_mult([[-1, 2], [-1, 1]], [[1, 0], [1, 1]]))\n",
        "print(mat_mult([[0, 1, 0], [0, 0, 1], [1, 0, 0]], [[1, 2, 3], [3, 4, 5], [5, 6, 7]]))"
      ],
      "execution_count": null,
      "outputs": [
        {
          "output_type": "stream",
          "text": [
            "[[1, 2], [0, 1]]\n",
            "[[3, 4, 5], [5, 6, 7], [1, 2, 3]]\n"
          ],
          "name": "stdout"
        }
      ]
    }
  ]
}