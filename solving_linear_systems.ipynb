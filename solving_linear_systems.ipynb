{
  "nbformat": 4,
  "nbformat_minor": 0,
  "metadata": {
    "colab": {
      "name": "solving_linear_systems",
      "provenance": [],
      "collapsed_sections": [],
      "include_colab_link": true
    },
    "kernelspec": {
      "name": "python3",
      "display_name": "Python 3"
    }
  },
  "cells": [
    {
      "cell_type": "markdown",
      "metadata": {
        "id": "view-in-github",
        "colab_type": "text"
      },
      "source": [
        "<a href=\"https://colab.research.google.com/github/shilongjaycui/mathematical-programming/blob/main/solving_linear_systems.ipynb\" target=\"_parent\"><img src=\"https://colab.research.google.com/assets/colab-badge.svg\" alt=\"Open In Colab\"/></a>"
      ]
    },
    {
      "cell_type": "markdown",
      "metadata": {
        "id": "L1ksFUvVuI3t"
      },
      "source": [
        "Problem 1"
      ]
    },
    {
      "cell_type": "code",
      "metadata": {
        "id": "-MGDwc0zuJuV",
        "colab": {
          "base_uri": "https://localhost:8080/",
          "height": 153
        },
        "outputId": "2cd12583-f990-4363-c63b-93cf283c6dfe"
      },
      "source": [
        "import numpy as np\n",
        "\n",
        "M = []\n",
        "i = int\n",
        "j = int\n",
        "\n",
        "def row_swap(M, i, j):\n",
        "  '''Takes as input a matrix object M and two indices i and j of a row and a column respectively.\n",
        "     If the entry M[i,j] != 0, the function returns the matrix M unaltered.\n",
        "     Otherwise the function steps through the entries M[k,j] of the j-th column with k ≥ i.\n",
        "     If it finds an entry M[k,j] != 0, the function swaps the i-th and k-th rows.\n",
        "     If there is no such entry M[k,j] != 0, return the original matrix M unaltered.'''\n",
        "  matrix = M.copy() #list = [], list2 = list.copy()\n",
        "  if M[i,j] == 0: #it's M[i,j], not M[i][j]\n",
        "    k = i\n",
        "    while k < len(M):\n",
        "      if M[k,j] != 0:\n",
        "        v = M[i].copy()\n",
        "        matrix[i] = M[k]\n",
        "        matrix[k] = v\n",
        "        return matrix\n",
        "      else:\n",
        "        k += 1\n",
        "    return M #has to return something, otherwise nothing will come out if it didn't go through the if-statement\n",
        "  else:\n",
        "    return M\n",
        "\n",
        "A = np.matrix([[1,2],[3,4]])\n",
        "B = np.matrix([[0,2],[3,4],[5,6]])\n",
        "C = np.matrix([[1,2,3],[0,0,6],[0,8,9]])\n",
        "\n",
        "print(row_swap(A, 0, 0))\n",
        "print(row_swap(B, 0, 0))\n",
        "print(row_swap(C, 1, 1))"
      ],
      "execution_count": null,
      "outputs": [
        {
          "output_type": "stream",
          "text": [
            "[[1 2]\n",
            " [3 4]]\n",
            "[[3 4]\n",
            " [0 2]\n",
            " [5 6]]\n",
            "[[1 2 3]\n",
            " [0 8 9]\n",
            " [0 0 6]]\n"
          ],
          "name": "stdout"
        }
      ]
    },
    {
      "cell_type": "markdown",
      "metadata": {
        "id": "I1DGLwT4v89H"
      },
      "source": [
        "Problem 2"
      ]
    },
    {
      "cell_type": "code",
      "metadata": {
        "id": "OMZQfEX6v-HT",
        "colab": {
          "base_uri": "https://localhost:8080/",
          "height": 153
        },
        "outputId": "a61dd2fb-16f5-4239-8639-0ad4bf16beb3"
      },
      "source": [
        "M = []\n",
        "i = int\n",
        "j = int\n",
        "\n",
        "def row_add(M, i, j):\n",
        "  '''Takes as input a matrix object M and two indices i and j of a row and a column respectively.\n",
        "     If the entry M[i,j] != 0, the function iterates through the rows M[k] of M with index k > i.\n",
        "     At each step, replace the row M[k] with the row M[i,j] ∗ M[k] − M[k,j] ∗ M[i].\n",
        "     Otherwise, return the original matrix A unaltered.'''\n",
        "  matrix = M.copy()\n",
        "  if M[i,j] != 0:\n",
        "    k = i + 1\n",
        "    while k < len(M):\n",
        "      if M[k,j] != 0: #check if it's not equal to zero\n",
        "        matrix[k] = M[i,j]*M[k] - M[k,j]*M[i]\n",
        "      k += 1\n",
        "    return matrix\n",
        "  else:\n",
        "    return M\n",
        "\n",
        "A = np.matrix([[1,2],[3,4]])\n",
        "B = np.matrix([[3,4],[0,2],[5,6]])\n",
        "C = np.matrix([[1,2,3],[0,5,6],[0,8,9]])\n",
        "\n",
        "print(row_add(A, 0, 0))\n",
        "print(row_add(B, 0, 0))\n",
        "print(row_add(C, 1, 1))"
      ],
      "execution_count": null,
      "outputs": [
        {
          "output_type": "stream",
          "text": [
            "[[ 1  2]\n",
            " [ 0 -2]]\n",
            "[[ 3  4]\n",
            " [ 0  2]\n",
            " [ 0 -2]]\n",
            "[[ 1  2  3]\n",
            " [ 0  5  6]\n",
            " [ 0  0 -3]]\n"
          ],
          "name": "stdout"
        }
      ]
    },
    {
      "cell_type": "markdown",
      "metadata": {
        "id": "IrYMa0c63EhF"
      },
      "source": [
        "Problem 3"
      ]
    },
    {
      "cell_type": "code",
      "metadata": {
        "id": "vjUua0BP3Fk6",
        "colab": {
          "base_uri": "https://localhost:8080/",
          "height": 153
        },
        "outputId": "a2e3a022-3cbd-4a89-f0af-5fc325c94720"
      },
      "source": [
        "M = []\n",
        "\n",
        "def ref(M):\n",
        "  '''Takes as input a matrix object M and reduces the matrix to echelon form.'''\n",
        "  i = 0\n",
        "  j = 0\n",
        "  while i < M.shape[0] and j < M.shape[1]: #use while-loop rather than for-loop\n",
        "    M = row_swap(M, i, j) #SET M EQUAL TO WHAT YOU'VE ROW SWAPPED\n",
        "    if M[i,j] == 0:\n",
        "      j += 1\n",
        "    else:\n",
        "      M = row_add(M, i, j) #SET M EQUAL TO WHAT YOU'VE ROW SWAPPED\n",
        "      i += 1\n",
        "      j += 1\n",
        "  return M\n",
        "\n",
        "A = np.matrix([[1,2],[3,4]])\n",
        "print(ref(A))\n",
        "B = np.matrix([[0,2],[3,4],[5,6]])\n",
        "print(ref(B))\n",
        "C = np.matrix([[1,2,3],[0,0,6],[0,8,9]])\n",
        "print(ref(C))"
      ],
      "execution_count": null,
      "outputs": [
        {
          "output_type": "stream",
          "text": [
            "[[ 1  2]\n",
            " [ 0 -2]]\n",
            "[[3 4]\n",
            " [0 2]\n",
            " [0 0]]\n",
            "[[1 2 3]\n",
            " [0 8 9]\n",
            " [0 0 6]]\n"
          ],
          "name": "stdout"
        }
      ]
    }
  ]
}