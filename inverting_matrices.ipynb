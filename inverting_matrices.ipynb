{
  "nbformat": 4,
  "nbformat_minor": 0,
  "metadata": {
    "colab": {
      "name": "inverting_matrices",
      "provenance": [],
      "collapsed_sections": [],
      "include_colab_link": true
    },
    "kernelspec": {
      "name": "python3",
      "display_name": "Python 3"
    }
  },
  "cells": [
    {
      "cell_type": "markdown",
      "metadata": {
        "id": "view-in-github",
        "colab_type": "text"
      },
      "source": [
        "<a href=\"https://colab.research.google.com/github/shilongjaycui/mathematical-programming/blob/main/inverting_matrices.ipynb\" target=\"_parent\"><img src=\"https://colab.research.google.com/assets/colab-badge.svg\" alt=\"Open In Colab\"/></a>"
      ]
    },
    {
      "cell_type": "code",
      "metadata": {
        "id": "VPXm6AY1W-rC",
        "colab": {
          "base_uri": "https://localhost:8080/",
          "height": 85
        },
        "outputId": "7b9e4466-add0-47eb-8e94-7a59d216ebc6"
      },
      "source": [
        "\n",
        "import sympy as sp\n",
        "\n",
        "M = sp.Matrix([[1,2,3],[4,5,6]])\n",
        "print(M.row(1))\n",
        "print(M[1,0])\n",
        "print(M[4]) #if you only use a single bracket index you get the entry as though the matrix were a single list, not the row!\n",
        "\n",
        "print(M.shape) #dimensions of the matrix"
      ],
      "execution_count": null,
      "outputs": [
        {
          "output_type": "stream",
          "text": [
            "Matrix([[4, 5, 6]])\n",
            "4\n",
            "5\n",
            "(2, 3)\n"
          ],
          "name": "stdout"
        }
      ]
    },
    {
      "cell_type": "markdown",
      "metadata": {
        "id": "RBV994eQYFno"
      },
      "source": [
        "Problem 1"
      ]
    },
    {
      "cell_type": "code",
      "metadata": {
        "id": "rZFHpvKaYGVS",
        "colab": {
          "base_uri": "https://localhost:8080/",
          "height": 51
        },
        "outputId": "05def695-116a-4292-890d-8cf5f16dd880"
      },
      "source": [
        "import sympy as sp\n",
        "\n",
        "M = []\n",
        "\n",
        "def aug_id(M):\n",
        "  '''takes as input an m × n matrix object A and \n",
        "     augments the matrix by the m × m identity matrix'''\n",
        "  m = M.shape[0]\n",
        "  I = sp.eye(m) #sp.eye(m), m: dimension of the identity matrix\n",
        "  return M.col_insert(M.shape[1],I) #insert matrix I after the 2nd column\n",
        "\n",
        "A = sp.Matrix([[1,2],[3,4]])\n",
        "print(aug_id(A))\n",
        "B = sp.Matrix([[0,2],[3,4],[5,6]])\n",
        "print(aug_id(B))"
      ],
      "execution_count": null,
      "outputs": [
        {
          "output_type": "stream",
          "text": [
            "Matrix([[1, 2, 1, 0], [3, 4, 0, 1]])\n",
            "Matrix([[0, 2, 1, 0, 0], [3, 4, 0, 1, 0], [5, 6, 0, 0, 1]])\n"
          ],
          "name": "stdout"
        }
      ]
    },
    {
      "cell_type": "code",
      "metadata": {
        "id": "1C4BA2IvLGW7",
        "colab": {
          "base_uri": "https://localhost:8080/",
          "height": 68
        },
        "outputId": "bac0e2ee-1ee8-477a-c2c9-982662a99040"
      },
      "source": [
        "A = sp.Matrix([[1,2],[3,4]])\n",
        "print(aug_id(A).rref())"
      ],
      "execution_count": null,
      "outputs": [
        {
          "output_type": "stream",
          "text": [
            "(Matrix([\n",
            "[1, 0,  -2,    1],\n",
            "[0, 1, 3/2, -1/2]]), (0, 1))\n"
          ],
          "name": "stdout"
        }
      ]
    },
    {
      "cell_type": "markdown",
      "metadata": {
        "id": "u_NSpz_xKO7v"
      },
      "source": [
        "Problem 2"
      ]
    },
    {
      "cell_type": "code",
      "metadata": {
        "id": "lhXrIdmTKPzV",
        "colab": {
          "base_uri": "https://localhost:8080/",
          "height": 51
        },
        "outputId": "861d8d87-3fca-4de9-987f-fdf26dd4d859"
      },
      "source": [
        "A = []\n",
        "\n",
        "def mat_inv(A):\n",
        "  '''takes as input an m × n matrix object A and\n",
        "     returns a potential inverse, even if the input\n",
        "     matrix was not invertible'''\n",
        "  m = A.shape[0]\n",
        "  n = A.shape[1]\n",
        "  M = aug_id(A).rref()[0]\n",
        "  for i in range(n): #delete the number of rows you started with \n",
        "    M.col_del(0) #always delete the first column: once the first column is deleted, the second column becomes the first column of the new matrix\n",
        "  return M\n",
        "\n",
        "A = sp.Matrix([[1,2],[3,4]])\n",
        "print(mat_inv(A))\n",
        "B = sp.Matrix([[1,2,3],[4,5,6]])\n",
        "print(mat_inv(B))"
      ],
      "execution_count": null,
      "outputs": [
        {
          "output_type": "stream",
          "text": [
            "Matrix([[-2, 1], [3/2, -1/2]])\n",
            "Matrix([[-5/3, 2/3], [4/3, -1/3]])\n"
          ],
          "name": "stdout"
        }
      ]
    }
  ]
}