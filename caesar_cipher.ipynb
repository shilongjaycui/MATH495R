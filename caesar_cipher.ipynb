{
  "nbformat": 4,
  "nbformat_minor": 0,
  "metadata": {
    "colab": {
      "name": "caesar_cipher",
      "provenance": [],
      "collapsed_sections": [],
      "include_colab_link": true
    },
    "kernelspec": {
      "name": "python3",
      "display_name": "Python 3"
    }
  },
  "cells": [
    {
      "cell_type": "markdown",
      "metadata": {
        "id": "view-in-github",
        "colab_type": "text"
      },
      "source": [
        "<a href=\"https://colab.research.google.com/github/shilongjaycui/mathematical-programming/blob/main/caesar_cipher.ipynb\" target=\"_parent\"><img src=\"https://colab.research.google.com/assets/colab-badge.svg\" alt=\"Open In Colab\"/></a>"
      ]
    },
    {
      "cell_type": "markdown",
      "metadata": {
        "id": "hfKCg0Wzm-8V"
      },
      "source": [
        "Problem 1"
      ]
    },
    {
      "cell_type": "code",
      "metadata": {
        "id": "LDElisPUm_ld",
        "colab": {
          "base_uri": "https://localhost:8080/",
          "height": 34
        },
        "outputId": "8dd407c0-6f98-46ca-eb57-7cc741ce3347"
      },
      "source": [
        "def last_two(y):\n",
        "  '''returns the last two digits (as an integer) of the integer'''\n",
        "  return int(y) % 100\n",
        "\n",
        "def last_two_deleted(x):\n",
        "  '''returns the integer with the last two digits deleted'''\n",
        "  return int(x) // 100\n",
        "\n",
        "def int_to_str26(m):\n",
        "  '''given an integer m, returns the corresponding string in the 26 character alphabet'''\n",
        "  string = \"\"\n",
        "  if m == 0:\n",
        "    return 'A'\n",
        "  letters = ['A', 'B', 'C', 'D','E','F','G','H','I','J','K','L','M','N','O','P','Q','R','S','T','U','V','W','X','Y','Z']\n",
        "  if int(m) > -1:\n",
        "    string += str(letters[last_two(m)])\n",
        "    m = last_two_deleted(m)\n",
        "  return string[::-1]\n",
        "\n",
        "def str_to_int26(word):\n",
        "  '''given a string of capital letters, returns an integer using the 26 character alphabet'''\n",
        "  number = \"\"\n",
        "  alphabet = {\"A\":\"00\",\"B\":\"01\",\"C\":\"02\",\"D\":\"03\",\"E\":\"04\",\"F\":\"05\",\"G\":\"06\",\"H\":\"07\",\"I\":\"08\",\"J\":\"09\",\"K\":\"10\",\"L\":\"11\",\"M\":\"12\",\"N\":\"13\",\"O\":\"14\",\"P\":\"15\",\"Q\":\"16\",\"R\":\"17\",\"S\":\"18\",\"T\":\"19\",\"U\":\"20\",\"V\":\"21\",\"W\":\"22\",\"X\":\"23\",\"Y\":\"24\",\"Z\":\"25\",\" \":\" \"}\n",
        "  for i in range(len(word)):\n",
        "    number += alphabet[word[i]]\n",
        "  return number\n",
        "\n",
        "def shift_encrypt(n, string):\n",
        "  '''\n",
        "      encodes a string of letters by doing the following to each letter:\n",
        "      \n",
        "  (a) translate the letter to an integer using the 26 character alphabet\n",
        "  (b) add n\n",
        "  (c) reduce the result modulo 26 (take the remainder after dividing by 26)\n",
        "  (d) translate the result back to a letter\n",
        "  '''\n",
        "  f = ''\n",
        "  for l in string:\n",
        "    v = int(str_to_int26(l))\n",
        "    v += n\n",
        "    v = v % 26\n",
        "    v = int_to_str26(v)\n",
        "    f += v\n",
        "  return f\n",
        "\n",
        "print(shift_encrypt(3, \"CAT\"))"
      ],
      "execution_count": null,
      "outputs": [
        {
          "output_type": "stream",
          "text": [
            "FDW\n"
          ],
          "name": "stdout"
        }
      ]
    },
    {
      "cell_type": "markdown",
      "metadata": {
        "id": "KmzIiYoWGa14"
      },
      "source": [
        "Problem 2"
      ]
    },
    {
      "cell_type": "code",
      "metadata": {
        "id": "gj07L6ljGcYV",
        "colab": {
          "base_uri": "https://localhost:8080/",
          "height": 34
        },
        "outputId": "ab93df9e-933c-4390-d616-3a6167ff6045"
      },
      "source": [
        "def shift_decrypt(n, string):\n",
        "  return shift_encrypt(-n, string)\n",
        "\n",
        "print(shift_decrypt(3, \"FDW\"))"
      ],
      "execution_count": null,
      "outputs": [
        {
          "output_type": "stream",
          "text": [
            "CAT\n"
          ],
          "name": "stdout"
        }
      ]
    },
    {
      "cell_type": "markdown",
      "metadata": {
        "id": "Ig2bkKsn4frm"
      },
      "source": [
        "Problem 3"
      ]
    },
    {
      "cell_type": "code",
      "metadata": {
        "id": "rsJ3OCXT4gWW",
        "colab": {
          "base_uri": "https://localhost:8080/",
          "height": 442
        },
        "outputId": "73a87800-eb27-4bee-b2fb-743609872a53"
      },
      "source": [
        "for n in range(1, 26):\n",
        "  print(shift_decrypt(n, \"KYVTRBVZJRCZV\"))"
      ],
      "execution_count": null,
      "outputs": [
        {
          "output_type": "stream",
          "text": [
            "JXUSQAUYIQBYU\n",
            "IWTRPZTXHPAXT\n",
            "HVSQOYSWGOZWS\n",
            "GURPNXRVFNYVR\n",
            "FTQOMWQUEMXUQ\n",
            "ESPNLVPTDLWTP\n",
            "DROMKUOSCKVSO\n",
            "CQNLJTNRBJURN\n",
            "BPMKISMQAITQM\n",
            "AOLJHRLPZHSPL\n",
            "ZNKIGQKOYGROK\n",
            "YMJHFPJNXFQNJ\n",
            "XLIGEOIMWEPMI\n",
            "WKHFDNHLVDOLH\n",
            "VJGECMGKUCNKG\n",
            "UIFDBLFJTBMJF\n",
            "THECAKEISALIE\n",
            "SGDBZJDHRZKHD\n",
            "RFCAYICGQYJGC\n",
            "QEBZXHBFPXIFB\n",
            "PDAYWGAEOWHEA\n",
            "OCZXVFZDNVGDZ\n",
            "NBYWUEYCMUFCY\n",
            "MAXVTDXBLTEBX\n",
            "LZWUSCWAKSDAW\n"
          ],
          "name": "stdout"
        }
      ]
    }
  ]
}