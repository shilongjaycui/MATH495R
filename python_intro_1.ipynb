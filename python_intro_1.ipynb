{
  "nbformat": 4,
  "nbformat_minor": 0,
  "metadata": {
    "colab": {
      "name": "python_intro_1",
      "provenance": [],
      "collapsed_sections": [],
      "include_colab_link": true
    },
    "kernelspec": {
      "name": "python3",
      "display_name": "Python 3"
    }
  },
  "cells": [
    {
      "cell_type": "markdown",
      "metadata": {
        "id": "view-in-github",
        "colab_type": "text"
      },
      "source": [
        "<a href=\"https://colab.research.google.com/github/shilongjaycui/mathematical-programming/blob/main/python_intro_1.ipynb\" target=\"_parent\"><img src=\"https://colab.research.google.com/assets/colab-badge.svg\" alt=\"Open In Colab\"/></a>"
      ]
    },
    {
      "cell_type": "markdown",
      "metadata": {
        "id": "adbOqg-0k15w"
      },
      "source": [
        "Problem 2"
      ]
    },
    {
      "cell_type": "code",
      "metadata": {
        "id": "QCQxnX81biGY",
        "colab": {
          "base_uri": "https://localhost:8080/",
          "height": 34
        },
        "outputId": "fa884438-8ec9-453f-da17-aabb0319afe2"
      },
      "source": [
        "def sphere_volume(r):\n",
        "  \"\"\"Return the volume of the sphere with the specified radius\"\"\"\n",
        "  return 4/3 * 3.14159 * r**3\n",
        "v = sphere_volume(1.59)\n",
        "print(v)"
      ],
      "execution_count": null,
      "outputs": [
        {
          "output_type": "stream",
          "text": [
            "16.83757779948\n"
          ],
          "name": "stdout"
        }
      ]
    },
    {
      "cell_type": "code",
      "metadata": {
        "id": "qbV2KmRQcLZ0",
        "colab": {
          "base_uri": "https://localhost:8080/",
          "height": 34
        },
        "outputId": "cfa27568-3e8a-4131-e025-d32e54eb969f"
      },
      "source": [
        "V = lambda r: 4/3 * 3.14159 * r**3\n",
        "print(V(24))"
      ],
      "execution_count": null,
      "outputs": [
        {
          "output_type": "stream",
          "text": [
            "57905.78687999999\n"
          ],
          "name": "stdout"
        }
      ]
    },
    {
      "cell_type": "markdown",
      "metadata": {
        "id": "Hjor5_2tk6hf"
      },
      "source": [
        "Problem 3"
      ]
    },
    {
      "cell_type": "code",
      "metadata": {
        "id": "VkFklKEEhMLQ",
        "colab": {
          "base_uri": "https://localhost:8080/",
          "height": 34
        },
        "outputId": "da2aabc3-8309-4c94-8e3d-6c54c4aa0bd0"
      },
      "source": [
        "def isolate(a, b, c, d, e):\n",
        "  print(a,\"     \", b,\"     \", c, d, e)\n",
        "isolate(1, 2, 3, 4, 5)"
      ],
      "execution_count": null,
      "outputs": [
        {
          "output_type": "stream",
          "text": [
            "1       2       3 4 5\n"
          ],
          "name": "stdout"
        }
      ]
    },
    {
      "cell_type": "markdown",
      "metadata": {
        "id": "iJXYInBnsV52"
      },
      "source": [
        "a better way to do problem 3:"
      ]
    },
    {
      "cell_type": "code",
      "metadata": {
        "id": "SPglF1gSsY_Q",
        "colab": {
          "base_uri": "https://localhost:8080/",
          "height": 51
        },
        "outputId": "828b700a-cce3-43fd-d06a-2e98f908fb4f"
      },
      "source": [
        "def isolate(a, b, c, d, e):\n",
        "  print(a, b, c, sep = '     ', end = ' ')\n",
        "  print(d, e, end = '\\n')\n",
        "  \n",
        "print(isolate(1, 2, 3, 4, 5))"
      ],
      "execution_count": null,
      "outputs": [
        {
          "output_type": "stream",
          "text": [
            "1     2     3 4 5\n",
            "None\n"
          ],
          "name": "stdout"
        }
      ]
    },
    {
      "cell_type": "markdown",
      "metadata": {
        "id": "cHfhRyeVlAcG"
      },
      "source": [
        "order of operations"
      ]
    },
    {
      "cell_type": "code",
      "metadata": {
        "id": "_26mkNLthfpK",
        "colab": {
          "base_uri": "https://localhost:8080/",
          "height": 136
        },
        "outputId": "b83af835-b031-4c0a-b46b-cf506ad2d8f2"
      },
      "source": [
        "print(1 - 2 * 3) #multiplication before addition and subtraction\n",
        "\n",
        "print(10 - 5 / 5) #division before addition and subtraction\n",
        "\n",
        "print(2 * 3 ** 2) #exponentiation before multiplication\n",
        "\n",
        "print(4 / 2 ** 2) #exponentiation before division\n",
        "\n",
        "print(2 ** 5 % 2) #exponentiation before modulus\n",
        "\n",
        "print(7 + 8 % 7) #modulus before addition\n",
        "\n",
        "print(8 - 7 % 6) #modulus before subtraction"
      ],
      "execution_count": null,
      "outputs": [
        {
          "output_type": "stream",
          "text": [
            "-5\n",
            "9.0\n",
            "18\n",
            "1.0\n",
            "0\n",
            "8\n",
            "7\n"
          ],
          "name": "stdout"
        }
      ]
    },
    {
      "cell_type": "code",
      "metadata": {
        "id": "9rxPSWaI-F8F",
        "colab": {
          "base_uri": "https://localhost:8080/",
          "height": 68
        },
        "outputId": "e575486d-cea6-4e58-898b-0a08153823fb"
      },
      "source": [
        "print(7 * 9 % 6)\n",
        "print(5 % 3 * 2) #multiplication & division & modulus have the same priority, order from left to right\n",
        "print(20 / 4 % 3)"
      ],
      "execution_count": null,
      "outputs": [
        {
          "output_type": "stream",
          "text": [
            "3\n",
            "4\n",
            "2.0\n"
          ],
          "name": "stdout"
        }
      ]
    },
    {
      "cell_type": "markdown",
      "metadata": {
        "id": "N4kroR5IldC3"
      },
      "source": [
        "The order of operations in Python is as follows:\n",
        "(1) exponentiation; (2) multiplication  or division or modulus; (3) addition or subtraction"
      ]
    }
  ]
}