{
  "nbformat": 4,
  "nbformat_minor": 0,
  "metadata": {
    "colab": {
      "name": "gram_schmidt",
      "provenance": [],
      "collapsed_sections": [],
      "include_colab_link": true
    },
    "kernelspec": {
      "name": "python3",
      "display_name": "Python 3"
    }
  },
  "cells": [
    {
      "cell_type": "markdown",
      "metadata": {
        "id": "view-in-github",
        "colab_type": "text"
      },
      "source": [
        "<a href=\"https://colab.research.google.com/github/shilongjaycui/mathematical-programming/blob/main/gram_schmidt.ipynb\" target=\"_parent\"><img src=\"https://colab.research.google.com/assets/colab-badge.svg\" alt=\"Open In Colab\"/></a>"
      ]
    },
    {
      "cell_type": "markdown",
      "metadata": {
        "id": "oaiR8cMPbJy8"
      },
      "source": [
        "Problem 1"
      ]
    },
    {
      "cell_type": "code",
      "metadata": {
        "id": "3kZDx1iYbGLY",
        "colab": {
          "base_uri": "https://localhost:8080/",
          "height": 51
        },
        "outputId": "0190d755-fc8c-4bb4-d262-d3535b7f25f4"
      },
      "source": [
        "import numpy as np\n",
        "\n",
        "def projection(A,B):\n",
        "  A = np.array(A)\n",
        "  B = np.array(B)\n",
        "  return A.dot(B) * A / A.dot(A)\n",
        "\n",
        "print(projection([1,0,-1],[1,2,3]))\n",
        "print(projection([1,2,0,-1],[2,3,4,5]))"
      ],
      "execution_count": null,
      "outputs": [
        {
          "output_type": "stream",
          "text": [
            "[-1.  0.  1.]\n",
            "[ 0.5  1.   0.  -0.5]\n"
          ],
          "name": "stdout"
        }
      ]
    },
    {
      "cell_type": "markdown",
      "metadata": {
        "id": "k6u8GfiGbll4"
      },
      "source": [
        "Problem 2"
      ]
    },
    {
      "cell_type": "code",
      "metadata": {
        "id": "C0rpAKWsbmn3",
        "colab": {
          "base_uri": "https://localhost:8080/",
          "height": 85
        },
        "outputId": "694237ce-c517-433a-c28a-528b3b6f5da6"
      },
      "source": [
        "def GramSchmidt(X):\n",
        "  '''takes as input a list X of vectors\n",
        "     {u1, u2, . . . up} and returns a list of vectors {v1,v2, . . .vq} which forms an\n",
        "     orthogonal basis for the space spanned by the original vectors'''\n",
        "  Y = []\n",
        "  for i in range(0,len(X)):\n",
        "    v = X[i].copy() #v1 = u1, v2 = u2 (for now)\n",
        "    for j in range(len(Y)):\n",
        "      v = v - projection(Y[j],X[i]) #v2 = u2 - projv1(u2) - projv2(u2)\n",
        "    v = np.array(v)\n",
        "    if v.dot(v) > 0.001: #make sure v2 is not a zero vector\n",
        "      Y.append(list(v))\n",
        "  return Y\n",
        "\n",
        "print(GramSchmidt([[1,0,-1],[1,2,3]]))\n",
        "print(GramSchmidt([[1,0,-1,0],[1,2,3,4],[0,1,2,2]]))\n",
        "print(GramSchmidt([[1,1,1],[2,2,2],[3,3,3]]))\n",
        "print(GramSchmidt([[1,0,0],[0,1,0],[0,0,1]]))"
      ],
      "execution_count": null,
      "outputs": [
        {
          "output_type": "stream",
          "text": [
            "[[1, 0, -1], [2.0, 2.0, 2.0]]\n",
            "[[1, 0, -1, 0], [2.0, 2.0, 2.0, 4.0]]\n",
            "[[1, 1, 1]]\n",
            "[[1, 0, 0], [0.0, 1.0, 0.0], [0.0, 0.0, 1.0]]\n"
          ],
          "name": "stdout"
        }
      ]
    },
    {
      "cell_type": "markdown",
      "metadata": {
        "id": "bOqsFzjLmXs0"
      },
      "source": [
        "Problem 3"
      ]
    },
    {
      "cell_type": "code",
      "metadata": {
        "id": "oc02LRKxmY1z",
        "colab": {
          "base_uri": "https://localhost:8080/",
          "height": 71
        },
        "outputId": "98173800-3269-400c-811b-76a36fc9e972"
      },
      "source": [
        "import math\n",
        "\n",
        "def Orthonormal(X):\n",
        "  Y = GramSchmidt(X)\n",
        "  Z = []\n",
        "  for v in Y:\n",
        "    v = np.array(v,dtype=float)\n",
        "    norm = math.sqrt(v.dot(v)) #norm of v = square root of v's dot product with itself\n",
        "    q = v/norm\n",
        "    Z.append(q)\n",
        "  return Z\n",
        "\n",
        "print(Orthonormal([[1,0,-1],[1,2,3]]))\n",
        "print(Orthonormal([[1,0,-1,0],[1,2,3,4],[0,1,2,2]]))"
      ],
      "execution_count": null,
      "outputs": [
        {
          "output_type": "stream",
          "text": [
            "[array([ 0.70710678,  0.        , -0.70710678]), array([0.57735027, 0.57735027, 0.57735027])]\n",
            "[array([ 0.70710678,  0.        , -0.70710678,  0.        ]), array([0.37796447, 0.37796447, 0.37796447, 0.75592895])]\n"
          ],
          "name": "stdout"
        }
      ]
    }
  ]
}