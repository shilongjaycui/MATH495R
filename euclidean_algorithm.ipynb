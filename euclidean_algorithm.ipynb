{
  "nbformat": 4,
  "nbformat_minor": 0,
  "metadata": {
    "colab": {
      "name": "euclidean_algorithm",
      "provenance": [],
      "collapsed_sections": [],
      "include_colab_link": true
    },
    "kernelspec": {
      "name": "python3",
      "display_name": "Python 3"
    }
  },
  "cells": [
    {
      "cell_type": "markdown",
      "metadata": {
        "id": "view-in-github",
        "colab_type": "text"
      },
      "source": [
        "<a href=\"https://colab.research.google.com/github/shilongjaycui/mathematical-programming/blob/main/euclidean_algorithm.ipynb\" target=\"_parent\"><img src=\"https://colab.research.google.com/assets/colab-badge.svg\" alt=\"Open In Colab\"/></a>"
      ]
    },
    {
      "cell_type": "markdown",
      "metadata": {
        "id": "8BG9_auonzx_"
      },
      "source": [
        "Problem 1"
      ]
    },
    {
      "cell_type": "code",
      "metadata": {
        "id": "DKfiZKn6n1H-",
        "colab": {
          "base_uri": "https://localhost:8080/",
          "height": 51
        },
        "outputId": "59390152-f9ce-460b-ae7a-f63ecb9ce822"
      },
      "source": [
        "def gcd_it(a,b):\n",
        "  if a==0 and b==0:\n",
        "    raise Exception(\"Error: a and be cannot both be zero\")\n",
        "  while a % b != 0:\n",
        "    r = a % b\n",
        "    a = b\n",
        "    b = r\n",
        "  return abs(b)\n",
        "\n",
        "print(gcd_it(12345,67890))\n",
        "print(gcd_it(-56,98))"
      ],
      "execution_count": null,
      "outputs": [
        {
          "output_type": "stream",
          "text": [
            "15\n",
            "14\n"
          ],
          "name": "stdout"
        }
      ]
    },
    {
      "cell_type": "markdown",
      "metadata": {
        "id": "M1PUQljxuvK4"
      },
      "source": [
        "Problem 2"
      ]
    },
    {
      "cell_type": "code",
      "metadata": {
        "id": "sfVXPNCruv7Y",
        "colab": {
          "base_uri": "https://localhost:8080/",
          "height": 51
        },
        "outputId": "c2c68f71-bd2a-4421-89b7-09b15240fbba"
      },
      "source": [
        "def gcd(a,b):\n",
        "  if abs(a) < abs(b):\n",
        "    c = a\n",
        "    a = b\n",
        "    b = c\n",
        "  if a == 0 and b == 0:\n",
        "    raise Exception('Error: a and b cannot both be zero')\n",
        "  elif b == 0:\n",
        "    return abs(a)\n",
        "  else:\n",
        "    return gcd(b, a % b)\n",
        "  \n",
        "print(gcd(112233,445566))\n",
        "print(gcd(493,391))"
      ],
      "execution_count": null,
      "outputs": [
        {
          "output_type": "stream",
          "text": [
            "33\n",
            "17\n"
          ],
          "name": "stdout"
        }
      ]
    },
    {
      "cell_type": "markdown",
      "metadata": {
        "id": "ChucnVJd0JGx"
      },
      "source": [
        "Problem 3"
      ]
    },
    {
      "cell_type": "code",
      "metadata": {
        "id": "OLoj9fbl0LbZ",
        "colab": {
          "base_uri": "https://localhost:8080/"
        },
        "outputId": "4e415414-5f60-4d3f-efc8-4ba19e1ce7c3"
      },
      "source": [
        "def xgcd(a,b):\n",
        "  if a == 0 and b == 0: #exception\n",
        "    raise Exception('Error: a and b cannot both be zero')\n",
        "  elif b == 0: #base case\n",
        "    d = abs(a)\n",
        "    if a < 0:\n",
        "      x = -1\n",
        "    else:\n",
        "      x = 1\n",
        "    y = 0\n",
        "    return d,x,y\n",
        "  if abs(b) > abs(a):\n",
        "    c = a\n",
        "    a = b\n",
        "    b = c\n",
        "    q = a // b\n",
        "    r = a % b\n",
        "    d,x,y = xgcd(b,r)\n",
        "    return [d,x-q*y, y]\n",
        "  else:\n",
        "    q = a // b\n",
        "    r = a % b\n",
        "    d,x,y = xgcd(b,r)\n",
        "    return [d,y,x-q*y]\n",
        "\n",
        "print(xgcd(57,89))\n",
        "print(xgcd(112233,445566))\n",
        "print(xgcd(12,-53))"
      ],
      "execution_count": null,
      "outputs": [
        {
          "output_type": "stream",
          "name": "stdout",
          "text": [
            "[1, 25, -16]\n",
            "[33, -4633, 1167]\n",
            "[1, -22, -5]\n"
          ]
        }
      ]
    },
    {
      "cell_type": "markdown",
      "metadata": {
        "id": "xugI_DFROaGo"
      },
      "source": [
        "Problem 4"
      ]
    },
    {
      "cell_type": "code",
      "metadata": {
        "id": "xYa5ih4hObIf",
        "colab": {
          "base_uri": "https://localhost:8080/",
          "height": 51
        },
        "outputId": "b4eaa120-c310-4828-aa82-853468dc6051"
      },
      "source": [
        "def sl2mat(a,b):\n",
        "  m = [a, b]\n",
        "  M = [m]\n",
        "  if gcd(a,b) == 1:\n",
        "    linear_combination = xgcd(a,b)\n",
        "    c = -linear_combination[2]\n",
        "    d = linear_combination[1]\n",
        "    e = [c,d]\n",
        "    M.append(e) #.append modifies a list, which cannot be returned\n",
        "    return M\n",
        "  else:\n",
        "    raise Exception('Error: a and b are not relatively prime')\n",
        "    \n",
        "print(sl2mat(1,7))\n",
        "print(sl2mat(17,-89))"
      ],
      "execution_count": null,
      "outputs": [
        {
          "output_type": "stream",
          "text": [
            "[[1, 7], [0, 1]]\n",
            "[[17, -89], [-4, 21]]\n"
          ],
          "name": "stdout"
        }
      ]
    }
  ]
}